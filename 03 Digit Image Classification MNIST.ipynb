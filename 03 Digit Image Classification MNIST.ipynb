{
  "nbformat": 4,
  "nbformat_minor": 0,
  "metadata": {
    "colab": {
      "name": "03 Digit Image Classification MNIST.ipynb",
      "version": "0.3.2",
      "provenance": []
    },
    "kernelspec": {
      "display_name": "Python 3",
      "language": "python",
      "name": "python3"
    }
  },
  "cells": [
    {
      "metadata": {
        "id": "ehzTqE4tDOkI",
        "colab_type": "text"
      },
      "cell_type": "markdown",
      "source": [
        "# Digits Image (MNIST Dataset) Classification using CNNs  \n",
        "**Classify the images of digits (0, 1, 2, etc.) correctly using Convolutional Neural Networks**  \n",
        "**Reference: https://www.kaggle.com/c/digit-recognizer/kernels**"
      ]
    },
    {
      "metadata": {
        "id": "v5J5g7zpCLdF",
        "colab_type": "text"
      },
      "cell_type": "markdown",
      "source": [
        "## Step 1: Verify that all requires libraries can be imported"
      ]
    },
    {
      "metadata": {
        "id": "TTn-dOAKCLdH",
        "colab_type": "code",
        "colab": {}
      },
      "cell_type": "code",
      "source": [
        "from keras.datasets import mnist\n",
        "from keras.utils import to_categorical\n",
        "from keras import layers, models\n",
        "import matplotlib.pyplot as plt"
      ],
      "execution_count": 0,
      "outputs": []
    },
    {
      "metadata": {
        "id": "scuh8OJnCLdN",
        "colab_type": "text"
      },
      "cell_type": "markdown",
      "source": [
        "## Step 2: Load MNIST dataset from the Internet  \n",
        "**The path for MNIST dataset is already in the Keras datasets library**  \n",
        "**The mnist.load_data() module automatically returns the four sets of data we need** "
      ]
    },
    {
      "metadata": {
        "id": "mixrJeYxCLdN",
        "colab_type": "code",
        "colab": {}
      },
      "cell_type": "code",
      "source": [
        "( train_images, train_labels ), ( validation_images, validation_labels ) = mnist.load_data()"
      ],
      "execution_count": 0,
      "outputs": []
    },
    {
      "metadata": {
        "id": "Fiay5uU0EhDl",
        "colab_type": "text"
      },
      "cell_type": "markdown",
      "source": [
        "## Step 3: Check how many images are in the Training set and Validation set\n",
        "** What is the dimension of each image?**"
      ]
    },
    {
      "metadata": {
        "id": "CbiupfMXEiiK",
        "colab_type": "code",
        "colab": {}
      },
      "cell_type": "code",
      "source": [
        "print(\"Training dataset:\")\n",
        "print(train_images.shape)\n",
        "print(train_labels.shape)\n",
        "print('Validation dataset:')\n",
        "print(validation_images.shape)\n",
        "print(validation_labels.shape)"
      ],
      "execution_count": 0,
      "outputs": []
    },
    {
      "metadata": {
        "id": "n5Q0TUrGCLdS",
        "colab_type": "text"
      },
      "cell_type": "markdown",
      "source": [
        "## Step 4: Visualize a random image (for example, 0th image) in the train dataset"
      ]
    },
    {
      "metadata": {
        "id": "c7B300HnCLdS",
        "colab_type": "code",
        "colab": {}
      },
      "cell_type": "code",
      "source": [
        "plt.matshow( train_images[0], cmap = 'gray')\n",
        "plt.show()"
      ],
      "execution_count": 0,
      "outputs": []
    },
    {
      "metadata": {
        "id": "lsFvaPqsFq5u",
        "colab_type": "text"
      },
      "cell_type": "markdown",
      "source": [
        "## Step 5: Verify that the \"true\" label is correct"
      ]
    },
    {
      "metadata": {
        "id": "6nIxGD7cCLdX",
        "colab_type": "code",
        "colab": {}
      },
      "cell_type": "code",
      "source": [
        "print(train_labels[0])"
      ],
      "execution_count": 0,
      "outputs": []
    },
    {
      "metadata": {
        "id": "MtSwoHaQCLdb",
        "colab_type": "text"
      },
      "cell_type": "markdown",
      "source": [
        "## Step 6: Reformat the datasets so that we can feed the data to the model we will build  \n",
        "** A 2D CNN model will accept a 4D input data - \\[number of data, height, width, depth of image]**  \n",
        "** So, we will reshape each image of dimension \\[28, 28] to \\[28, 28, 1]**   \n",
        "** Also, the image intensities can be anywhere from 0 to 255 - we want these numbers to be between 0 and 1 **"
      ]
    },
    {
      "metadata": {
        "id": "13ZyN_wxCLdc",
        "colab_type": "code",
        "colab": {}
      },
      "cell_type": "code",
      "source": [
        "train_images = train_images.reshape( ( 60000, 28, 28, 1 ) )\n",
        "train_images = train_images.astype( 'float32' ) / 255\n",
        "validation_images = validation_images.reshape( ( 10000, 28, 28, 1 ) )\n",
        "validation_images = validation_images.astype( 'float32' ) / 255"
      ],
      "execution_count": 0,
      "outputs": []
    },
    {
      "metadata": {
        "id": "32qh5r4HGoT9",
        "colab_type": "text"
      },
      "cell_type": "markdown",
      "source": [
        "## Step 7: Our network will have 10 output nodes, we need to convert our labels accordingly\n",
        "** Don't you rerun this more than once**   \n",
        "** Verify that the shape of train_labels is (60000, 10) **  "
      ]
    },
    {
      "metadata": {
        "id": "bvDeN5B1G3WF",
        "colab_type": "code",
        "colab": {}
      },
      "cell_type": "code",
      "source": [
        "print(\"Before:\")\n",
        "print( train_labels.shape )\n",
        "print( train_labels[0] )\n",
        "train_labels = to_categorical( train_labels )\n",
        "validation_labels = to_categorical( validation_labels )\n",
        "print(\"After:\")\n",
        "print( train_labels.shape )\n",
        "print( train_labels[0] )"
      ],
      "execution_count": 0,
      "outputs": []
    },
    {
      "metadata": {
        "id": "OHUZowOTCLdg",
        "colab_type": "text"
      },
      "cell_type": "markdown",
      "source": [
        "## Step 8: Create a neural network with following architecture:  \n",
        "**- The first layer has 16 filters (kernels), each of size 3x3**  \n",
        "**- The second layer is a MaxPooling layer - it will reduce the dimensions of the image by half**  \n",
        "**- The third layer has 4 filters (kernels), each of size 3x3**  \n",
        "**- The last layer is a set of 10 neurons - one for each of the 10 digit labels**  \n",
        "\n",
        "#### Notes:\n",
        "**- You could use just the Dense layers to achieve digit identification - CNNs usually deliver better accuracy**  \n",
        "**- Conv2D is the convolutional layer - Conv2D( filters, (filter_height, filter_width), (activation), (input_shape) )**  \n",
        "**- The filter will move through the image pixel by pixel (or \"convolves\") around the image picking up values - output of: 26 x 26**  \n",
        "**- MaxPooling2D(height, width) - takes the highest values from the Convolutional layer and puts it in height x width - create an output of 2 x 2 format with the highest values from within the 4 squares**  \n",
        "**- The last layer - 10 neurons for digits between 0 and 9 - Each neuron will contain values be between 0 - 1 and all of the values will sum to 1**  \n",
        "**- We have a probability for a digit prediction - the highest probability will be the model's prediction for the digit**  "
      ]
    },
    {
      "metadata": {
        "id": "ixyuwzFYCLdh",
        "colab_type": "code",
        "colab": {}
      },
      "cell_type": "code",
      "source": [
        "model = models.Sequential()\n",
        "model.add( layers.Conv2D( 16, ( 3, 3 ), activation = 'relu', input_shape = train_images[0, :, :, :].shape ) )\n",
        "model.add( layers.MaxPooling2D( ( 2, 2 ) ) )\n",
        "model.add( layers.Conv2D( 4, ( 3, 3 ), activation = 'relu' ) )\n",
        "model.add( layers.Flatten() )\n",
        "model.add( layers.Dense( 10, activation = 'softmax' ) )\n",
        "model.summary()"
      ],
      "execution_count": 0,
      "outputs": []
    },
    {
      "metadata": {
        "id": "mj9I8_OzCLdm",
        "colab_type": "text"
      },
      "cell_type": "markdown",
      "source": [
        "## Step 9: Compile the model and Do the training"
      ]
    },
    {
      "metadata": {
        "id": "F3sh0E3OCLdn",
        "colab_type": "code",
        "colab": {}
      },
      "cell_type": "code",
      "source": [
        "model.compile( optimizer = 'rmsprop', loss = 'categorical_crossentropy', metrics = [ 'accuracy' ] )\n",
        "model.fit( train_images, train_labels, epochs = 4, batch_size = 64 )"
      ],
      "execution_count": 0,
      "outputs": []
    },
    {
      "metadata": {
        "id": "Cng1uxfwMIco",
        "colab_type": "text"
      },
      "cell_type": "markdown",
      "source": [
        "## Step 10: Evaluate the model on the test validation set"
      ]
    },
    {
      "metadata": {
        "id": "jPqgW345CLdt",
        "colab_type": "code",
        "colab": {}
      },
      "cell_type": "code",
      "source": [
        "validation_loss, validation_acc = model.evaluate( validation_images, validation_labels )\n",
        "print( 'validation_acc:', validation_acc )"
      ],
      "execution_count": 0,
      "outputs": []
    },
    {
      "metadata": {
        "id": "3bwpB6B_CLdv",
        "colab_type": "text"
      },
      "cell_type": "markdown",
      "source": [
        "## Step 11: Look into what the model actually predicted\n",
        "** An example of what the model has predicted and comparison with the true classes**\n"
      ]
    },
    {
      "metadata": {
        "id": "yUiGV9R4CLdx",
        "colab_type": "code",
        "colab": {}
      },
      "cell_type": "code",
      "source": [
        "plt.matshow( validation_images[0, :, :, 0], cmap = 'gray' )\n",
        "plt.show()\n",
        "print( validation_labels[0] )"
      ],
      "execution_count": 0,
      "outputs": []
    },
    {
      "metadata": {
        "id": "fwrAOqP9CLdz",
        "colab_type": "text"
      },
      "cell_type": "markdown",
      "source": [
        "** Visualizing the predictions predictions on the unseen data - this is going to show us how the model is predicting the images**  \n",
        "**  The output is an array of values where each value is associated to a digit**"
      ]
    },
    {
      "metadata": {
        "id": "88ZhvGptCLd0",
        "colab_type": "code",
        "colab": {}
      },
      "cell_type": "code",
      "source": [
        "predictions = model.predict( validation_images )\n",
        "print( predictions[0] )"
      ],
      "execution_count": 0,
      "outputs": []
    },
    {
      "metadata": {
        "id": "EO3b5Kn5CLd4",
        "colab_type": "text"
      },
      "cell_type": "markdown",
      "source": [
        "** After rounding we can see the output of the prediction**  "
      ]
    },
    {
      "metadata": {
        "id": "lyTTJas1CLd4",
        "colab_type": "code",
        "colab": {}
      },
      "cell_type": "code",
      "source": [
        "print( predictions[0].round() )"
      ],
      "execution_count": 0,
      "outputs": []
    },
    {
      "metadata": {
        "id": "_PbETHIHCLd8",
        "colab_type": "text"
      },
      "cell_type": "markdown",
      "source": [
        "## \\[Optional] Step 12: How can the model's performance be improved?\n",
        "- Increase the number of epochs\n",
        "- Increase the number of filters in the first layer, and subsequent layers\n",
        "- Add more layers into the neural networks \n",
        "- Increase the number of Conv2D layers (i.e. add extra layers)\n",
        "- What is the baseline accuracy (i.e. accuracy of a random model)?"
      ]
    },
    {
      "metadata": {
        "id": "Aiew4WBlCLd9",
        "colab_type": "code",
        "colab": {}
      },
      "cell_type": "code",
      "source": [
        ""
      ],
      "execution_count": 0,
      "outputs": []
    }
  ]
}