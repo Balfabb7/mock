{
  "nbformat": 4,
  "nbformat_minor": 0,
  "metadata": {
    "colab": {
      "name": "pima indians Workshop .ipynb",
      "version": "0.3.2",
      "provenance": []
    },
    "kernelspec": {
      "display_name": "Python 3",
      "language": "python",
      "name": "python3"
    }
  },
  "cells": [
    {
      "metadata": {
        "id": "7kUj8gFFxwTZ",
        "colab_type": "text"
      },
      "cell_type": "markdown",
      "source": [
        "# Predict the Onset of Diabetes Based on Diagnostic Measures (The Pima Indians Diabetes Database)\n",
        "\n",
        "**Reference: https://www.kaggle.com/uciml/pima-indians-diabetes-database  **"
      ]
    },
    {
      "metadata": {
        "id": "2n2UFLYnyNzs",
        "colab_type": "text"
      },
      "cell_type": "markdown",
      "source": [
        "## Step 1: Verify that all requires libraries can be imported  \n",
        "**np.random.seed is for for reproducibility of results**"
      ]
    },
    {
      "metadata": {
        "id": "X2Z70wjAxwTd",
        "colab_type": "code",
        "colab": {}
      },
      "cell_type": "code",
      "source": [
        "from keras.models import Sequential\n",
        "from keras.layers import Dense\n",
        "from sklearn.metrics import accuracy_score, precision_score, recall_score, f1_score\n",
        "import numpy as np\n",
        "numpy.random.seed(7)"
      ],
      "execution_count": 0,
      "outputs": []
    },
    {
      "metadata": {
        "id": "NCf94zhzxwTk",
        "colab_type": "text"
      },
      "cell_type": "markdown",
      "source": [
        "## Step 2: Load the data \n",
        "**Questions: **  \n",
        "**- How many rows and columns does the data have?**"
      ]
    },
    {
      "metadata": {
        "id": "Ekgp7YlexwTl",
        "colab_type": "code",
        "colab": {}
      },
      "cell_type": "code",
      "source": [
        "# load pima indians dataset\n",
        "dataset = np.loadtxt(\"https://raw.githubusercontent.com/jbrownlee/Datasets/master/pima-indians-diabetes.data.csv\", delimiter=\",\")\n",
        "print(dataset.shape)"
      ],
      "execution_count": 0,
      "outputs": []
    },
    {
      "metadata": {
        "id": "qPNA5gq4zY3b",
        "colab_type": "text"
      },
      "cell_type": "markdown",
      "source": [
        "## Step 3: Preview first 5 rows and all columns  \n",
        "** dataset[0:5, :] = Rows 0 to 4 with all columns **"
      ]
    },
    {
      "metadata": {
        "id": "u1SHBcPAzdPA",
        "colab_type": "code",
        "colab": {}
      },
      "cell_type": "code",
      "source": [
        "print(dataset[0:5, :])"
      ],
      "execution_count": 0,
      "outputs": []
    },
    {
      "metadata": {
        "id": "0Tawem2fxwTo",
        "colab_type": "text"
      },
      "cell_type": "markdown",
      "source": [
        "## Step 4: Split the data (768 rows) into Training Set (first 700 rows) and Validation Set (remaining 68 rows)  \n",
        "**- The first 8 columns (0 to 7) are our features used as input to the model**  \n",
        "**- The last column (8) is the true label (diabetes or not) or the ground truth**    \n",
        "#### Questions:\n",
        "**- What is our input and output? **   \n",
        "**- Why \"0:8\" in X and \"8\" in Y?   **\n"
      ]
    },
    {
      "metadata": {
        "id": "ei1fSHBJxwTp",
        "colab_type": "code",
        "colab": {}
      },
      "cell_type": "code",
      "source": [
        "XTRAIN = dataset[:700,0:8]\n",
        "YTRAIN = dataset[:700,8]\n",
        "XVALIDATION = dataset[700:,0:8]\n",
        "YVALIDATION = dataset[700:,8]"
      ],
      "execution_count": 0,
      "outputs": []
    },
    {
      "metadata": {
        "id": "_1TpDX4H4c43",
        "colab_type": "text"
      },
      "cell_type": "markdown",
      "source": [
        "## Step 5: Review the dimensions of our Training Dataset and Validation Dataset\n",
        "**Also preview some of the \"input features\" and \"correct labels\" for the datasets**"
      ]
    },
    {
      "metadata": {
        "id": "Ktv3rFpVxwTs",
        "colab_type": "code",
        "colab": {}
      },
      "cell_type": "code",
      "source": [
        "print(XTRAIN.shape)\n",
        "print(YTRAIN.shape)\n",
        "print(XVALIDATION.shape)\n",
        "print(YVALIDATION.shape)\n",
        "print(XTRAIN[0:3,])\n",
        "print(YTRAIN[0:3])\n",
        "print(XVALIDATION[0:3,])\n",
        "print(YVALIDATION[0:3])"
      ],
      "execution_count": 0,
      "outputs": []
    },
    {
      "metadata": {
        "id": "-3DxGlB2xwTv",
        "colab_type": "text"
      },
      "cell_type": "markdown",
      "source": [
        "## Step 6: Create a neural network model with 12 neurons in layer 1, 8 neurons in layer 2, and 1 neuron as the last layer\n",
        "**Questions:**  \n",
        "**- Why is input_dim = 8? It can also be replaced with X[0, :]**\n"
      ]
    },
    {
      "metadata": {
        "id": "FhRrPhElxwTw",
        "colab_type": "code",
        "colab": {}
      },
      "cell_type": "code",
      "source": [
        "model = Sequential()\n",
        "model.add(Dense(12, input_dim=8, activation='relu'))\n",
        "model.add(Dense(8, activation='relu'))\n",
        "model.add(Dense(1, activation='sigmoid'))\n",
        "print(model.summary())"
      ],
      "execution_count": 0,
      "outputs": []
    },
    {
      "metadata": {
        "id": "OJhrMV9xxwT4",
        "colab_type": "text"
      },
      "cell_type": "markdown",
      "source": [
        "## Step 6: Check for proper neural connections by compiling the model"
      ]
    },
    {
      "metadata": {
        "id": "jWYDiRrhxwT6",
        "colab_type": "code",
        "colab": {}
      },
      "cell_type": "code",
      "source": [
        "model.compile(loss='binary_crossentropy', optimizer='adam', metrics=['accuracy'])"
      ],
      "execution_count": 0,
      "outputs": []
    },
    {
      "metadata": {
        "id": "MlPJMFYAxwT8",
        "colab_type": "text"
      },
      "cell_type": "markdown",
      "source": [
        "## Step 7: Do the Training (i.e. Fit the model)\n",
        "**- We feed XTRAIN into the model and the model calculates errors using YTRAIN**  \n",
        "**- In one epoch the model scans through the entire rows in the XTRAIN**  \n",
        "**- Updating the number of epochs usually increases the accuracy of the model**  \n",
        "**- To observe the accuracy on the VALIDATION data during the training, add \", validation_data = (XTEST, YTEST)\" ** "
      ]
    },
    {
      "metadata": {
        "id": "dytoL_9SxwT9",
        "colab_type": "code",
        "colab": {}
      },
      "cell_type": "code",
      "source": [
        "model.fit(XTRAIN, YTRAIN, epochs=15, batch_size=10)"
      ],
      "execution_count": 0,
      "outputs": []
    },
    {
      "metadata": {
        "id": "FpNRAdsAxwUC",
        "colab_type": "text"
      },
      "cell_type": "markdown",
      "source": [
        "## Step 8: Evaluate the model on the Training data (the same data we used to train the model)"
      ]
    },
    {
      "metadata": {
        "id": "iXE5jrkWxwUC",
        "colab_type": "code",
        "colab": {}
      },
      "cell_type": "code",
      "source": [
        "scores = model.evaluate(XTRAIN, YTRAIN)\n",
        "print(model.metrics_names)\n",
        "print(scores)\n",
        "print(\"\\n%s: %.2f%%\" % (model.metrics_names[1], scores[1]*100))"
      ],
      "execution_count": 0,
      "outputs": []
    },
    {
      "metadata": {
        "id": "bKiUus2cxwUM",
        "colab_type": "text"
      },
      "cell_type": "markdown",
      "source": [
        "## Step 9: The real test of the model we trained\n",
        "** We will evaluate the model on the \"Unknown\" dataset (i.e. validation dataset) **"
      ]
    },
    {
      "metadata": {
        "id": "4AdOsks3xwUN",
        "colab_type": "code",
        "colab": {}
      },
      "cell_type": "code",
      "source": [
        "scores = model.evaluate(XVALIDATION, YVALIDATION)\n",
        "print(\"\\n%s: %.2f%%\" % (model.metrics_names[1], scores[1]*100))"
      ],
      "execution_count": 0,
      "outputs": []
    },
    {
      "metadata": {
        "id": "LcvxStrUxwUS",
        "colab_type": "text"
      },
      "cell_type": "markdown",
      "source": [
        "## Step 10: Look into what the model actually predicted\n",
        "** An example of what the model has predicted and comparison with the true classes **"
      ]
    },
    {
      "metadata": {
        "id": "_yu6sxhTxwUU",
        "colab_type": "code",
        "colab": {}
      },
      "cell_type": "code",
      "source": [
        "print(XVALIDATION[0:5])\n",
        "print(YVALIDATION[0:5])"
      ],
      "execution_count": 0,
      "outputs": []
    },
    {
      "metadata": {
        "id": "vYKKA1JfxwUk",
        "colab_type": "code",
        "colab": {}
      },
      "cell_type": "code",
      "source": [
        "prediction = model.predict(XVALIDATION)"
      ],
      "execution_count": 0,
      "outputs": []
    },
    {
      "metadata": {
        "id": "krXuEXj8xwUn",
        "colab_type": "code",
        "colab": {}
      },
      "cell_type": "code",
      "source": [
        "print(prediction[0:5])"
      ],
      "execution_count": 0,
      "outputs": []
    },
    {
      "metadata": {
        "id": "Xg7sUMwcxwUp",
        "colab_type": "code",
        "colab": {}
      },
      "cell_type": "code",
      "source": [
        "print(prediction[0:5].round())"
      ],
      "execution_count": 0,
      "outputs": []
    },
    {
      "metadata": {
        "id": "rbZgrutwxwUr",
        "colab_type": "text"
      },
      "cell_type": "markdown",
      "source": [
        "## \\[Optional\\] Step 11: Accuracy is not sufficient to evaluate our model's ability to do binary classification  \n",
        "** We can further evaluate the model using precision, recall, and F1-score **"
      ]
    },
    {
      "metadata": {
        "id": "ScjNBZNYxwUw",
        "colab_type": "code",
        "colab": {}
      },
      "cell_type": "code",
      "source": [
        "accuracy = accuracy_score(YVALIDATION, prediction.round())\n",
        "precision = precision_score(YVALIDATION, prediction.round())\n",
        "recall = recall_score(YVALIDATION, prediction.round())\n",
        "f1score = f1_score(YVALIDATION, prediction.round())\n",
        "print(\"Accuracy: %.2f%%\" % (accuracy * 100.0))\n",
        "print(\"Precision: %.2f%%\" % (precision * 100.0))\n",
        "print(\"Recall: %.2f%%\" % (recall * 100.0))\n",
        "print(\"F1-score: %.2f\" % (f1score))"
      ],
      "execution_count": 0,
      "outputs": []
    },
    {
      "metadata": {
        "id": "qAIlkVsu8-TW",
        "colab_type": "text"
      },
      "cell_type": "markdown",
      "source": [
        "## \\[Optional\\] Step 12: How can the model's performance be improved?  \n",
        "** - Increase the number of epochs to 100 or 150 **  \n",
        "** - Add more layers into the neural networks **  \n",
        "** - Increase/Decrease the number of rows in the training/validation set **"
      ]
    },
    {
      "metadata": {
        "id": "9qOCQMmL9axc",
        "colab_type": "code",
        "colab": {}
      },
      "cell_type": "code",
      "source": [
        ""
      ],
      "execution_count": 0,
      "outputs": []
    }
  ]
}